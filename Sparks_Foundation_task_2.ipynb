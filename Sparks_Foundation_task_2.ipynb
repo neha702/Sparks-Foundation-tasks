{
  "nbformat": 4,
  "nbformat_minor": 0,
  "metadata": {
    "colab": {
      "name": "Sparks Foundation task 2.ipynb",
      "provenance": [],
      "collapsed_sections": [],
      "authorship_tag": "ABX9TyPaLHSrjpbo9oztuoU7UyWb",
      "include_colab_link": true
    },
    "kernelspec": {
      "name": "python3",
      "display_name": "Python 3"
    }
  },
  "cells": [
    {
      "cell_type": "markdown",
      "metadata": {
        "id": "view-in-github",
        "colab_type": "text"
      },
      "source": [
        "<a href=\"https://colab.research.google.com/github/neha702/Sparks-Foundation-tasks/blob/master/Sparks_Foundation_task_2.ipynb\" target=\"_parent\"><img src=\"https://colab.research.google.com/assets/colab-badge.svg\" alt=\"Open In Colab\"/></a>"
      ]
    },
    {
      "cell_type": "markdown",
      "metadata": {
        "id": "txedjOqidmVO",
        "colab_type": "text"
      },
      "source": [
        "**Task 2: To Explore Supervised learning**\n",
        "\n",
        "Here, in this task we are given a dataset and in this regression task we will predict the percentage of\n",
        "marks that a student is expected to score based upon the\n",
        "number of hours they studied.So, the task is to predict the  score if a student study for 9.25 hrs in a\n",
        "day."
      ]
    },
    {
      "cell_type": "markdown",
      "metadata": {
        "id": "yrnxrKqueys-",
        "colab_type": "text"
      },
      "source": [
        "**Importing libraries**"
      ]
    },
    {
      "cell_type": "code",
      "metadata": {
        "id": "ARXwut7Cubga",
        "colab_type": "code",
        "colab": {}
      },
      "source": [
        "#importing libraries\n",
        "import numpy as np\n",
        "import matplotlib.pyplot as plt\n",
        "import pandas as pd\n",
        "%matplotlib inline"
      ],
      "execution_count": 2,
      "outputs": []
    },
    {
      "cell_type": "markdown",
      "metadata": {
        "id": "JYoCebVAdi2i",
        "colab_type": "text"
      },
      "source": [
        "**Importing and preparing data**"
      ]
    },
    {
      "cell_type": "code",
      "metadata": {
        "id": "txPkZT7Uwsq-",
        "colab_type": "code",
        "colab": {
          "base_uri": "https://localhost:8080/",
          "height": 452
        },
        "outputId": "35f734da-ecc7-47ef-d850-6e68078bc268"
      },
      "source": [
        "#importing dataset\n",
        "link=\"http://bit.ly/w-data\"\n",
        "data=pd.read_csv(link)\n",
        "data.head(10)\n",
        "X=data.iloc[:,:-1].values\n",
        "Y=data.iloc[:,1].values\n",
        "print(data)\n"
      ],
      "execution_count": 3,
      "outputs": [
        {
          "output_type": "stream",
          "text": [
            "    Hours  Scores\n",
            "0     2.5      21\n",
            "1     5.1      47\n",
            "2     3.2      27\n",
            "3     8.5      75\n",
            "4     3.5      30\n",
            "5     1.5      20\n",
            "6     9.2      88\n",
            "7     5.5      60\n",
            "8     8.3      81\n",
            "9     2.7      25\n",
            "10    7.7      85\n",
            "11    5.9      62\n",
            "12    4.5      41\n",
            "13    3.3      42\n",
            "14    1.1      17\n",
            "15    8.9      95\n",
            "16    2.5      30\n",
            "17    1.9      24\n",
            "18    6.1      67\n",
            "19    7.4      69\n",
            "20    2.7      30\n",
            "21    4.8      54\n",
            "22    3.8      35\n",
            "23    6.9      76\n",
            "24    7.8      86\n"
          ],
          "name": "stdout"
        }
      ]
    },
    {
      "cell_type": "markdown",
      "metadata": {
        "id": "4bTStfeFhgtn",
        "colab_type": "text"
      },
      "source": [
        "**Data visualisation**"
      ]
    },
    {
      "cell_type": "code",
      "metadata": {
        "id": "vXKnJ47zgh6k",
        "colab_type": "code",
        "colab": {
          "base_uri": "https://localhost:8080/",
          "height": 295
        },
        "outputId": "35bea391-65d1-4ba5-db59-d0f025ba88ce"
      },
      "source": [
        "plt.scatter(X,Y,marker=\"s\")\n",
        "plt.title('Hours vs percentage')\n",
        "plt.ylabel('Percentage score')\n",
        "plt.xlabel('Hours studied')\n",
        "plt.show()"
      ],
      "execution_count": 4,
      "outputs": [
        {
          "output_type": "display_data",
          "data": {
            "image/png": "[encoded data removed]",
            "text/plain": [
              "<Figure size 432x288 with 1 Axes>"
            ]
          },
          "metadata": {
            "tags": [],
            "needs_background": "light"
          }
        }
      ]
    },
    {
      "cell_type": "markdown",
      "metadata": {
        "id": "S2v8NTpr613h",
        "colab_type": "text"
      },
      "source": [
        "**Splitting into training and test sets**"
      ]
    },
    {
      "cell_type": "code",
      "metadata": {
        "id": "SVDJpTvvpN8_",
        "colab_type": "code",
        "colab": {}
      },
      "source": [
        "from sklearn.model_selection import train_test_split\n",
        "X_train,X_test,Y_train,Y_test=train_test_split(X,Y,test_size=0.2,random_state=0)\n"
      ],
      "execution_count": 5,
      "outputs": []
    },
    {
      "cell_type": "markdown",
      "metadata": {
        "id": "v4V-eVxM9etM",
        "colab_type": "text"
      },
      "source": [
        "**Fitting a simple linear regressor**"
      ]
    },
    {
      "cell_type": "code",
      "metadata": {
        "id": "cyK01z147zfz",
        "colab_type": "code",
        "colab": {
          "base_uri": "https://localhost:8080/",
          "height": 33
        },
        "outputId": "aa1d9ede-cefd-4759-aeda-49eb86ab149e"
      },
      "source": [
        "from sklearn.linear_model import LinearRegression\n",
        "regressor=LinearRegression()\n",
        "regressor.fit(X_train,Y_train)"
      ],
      "execution_count": 6,
      "outputs": [
        {
          "output_type": "execute_result",
          "data": {
            "text/plain": [
              "LinearRegression(copy_X=True, fit_intercept=True, n_jobs=None, normalize=False)"
            ]
          },
          "metadata": {
            "tags": []
          },
          "execution_count": 6
        }
      ]
    },
    {
      "cell_type": "markdown",
      "metadata": {
        "id": "LVb6zctp-Cgk",
        "colab_type": "text"
      },
      "source": [
        "**Predicting the test set results**"
      ]
    },
    {
      "cell_type": "code",
      "metadata": {
        "id": "gQ-y-ISb97kO",
        "colab_type": "code",
        "colab": {}
      },
      "source": [
        "Y_pred=regressor.predict(X_test)"
      ],
      "execution_count": 7,
      "outputs": []
    },
    {
      "cell_type": "markdown",
      "metadata": {
        "id": "xRRYoJ9TyiGw",
        "colab_type": "text"
      },
      "source": [
        "**Comparing actual and predicted data**"
      ]
    },
    {
      "cell_type": "code",
      "metadata": {
        "id": "_UpCl_zkynQ4",
        "colab_type": "code",
        "colab": {
          "base_uri": "https://localhost:8080/",
          "height": 117
        },
        "outputId": "034a6bd8-2609-4f2f-db37-9f3d00e18c75"
      },
      "source": [
        "data= pd.DataFrame({'Actual': Y_test.flatten(), 'Predicted': Y_pred.flatten()})  \n",
        "print(data)"
      ],
      "execution_count": 8,
      "outputs": [
        {
          "output_type": "stream",
          "text": [
            "   Actual  Predicted\n",
            "0      20  16.884145\n",
            "1      27  33.732261\n",
            "2      69  75.357018\n",
            "3      30  26.794801\n",
            "4      62  60.491033\n"
          ],
          "name": "stdout"
        }
      ]
    },
    {
      "cell_type": "markdown",
      "metadata": {
        "id": "1jg8YFls_GSX",
        "colab_type": "text"
      },
      "source": [
        "**Predicting the score of a student who study for 9.25 hours in a day**"
      ]
    },
    {
      "cell_type": "code",
      "metadata": {
        "id": "mSgmjF1C-iVI",
        "colab_type": "code",
        "colab": {
          "base_uri": "https://localhost:8080/",
          "height": 50
        },
        "outputId": "041b66d5-45c5-486b-a34f-216ee5218f6c"
      },
      "source": [
        "hour=9.25\n",
        "score_pred=regressor.predict([[hour]])\n",
        "print(\"No. of hours studied={}\".format(hour))\n",
        "print(\"Score={}\".format(score_pred[0]))"
      ],
      "execution_count": 14,
      "outputs": [
        {
          "output_type": "stream",
          "text": [
            "No. of hours studied=9.25\n",
            "Score=93.69173248737539\n"
          ],
          "name": "stdout"
        }
      ]
    },
    {
      "cell_type": "markdown",
      "metadata": {
        "id": "R9OD76hDpSwi",
        "colab_type": "text"
      },
      "source": [
        "**Visualising the train and test set results**"
      ]
    },
    {
      "cell_type": "code",
      "metadata": {
        "id": "cbsQM4XmAJYE",
        "colab_type": "code",
        "colab": {
          "base_uri": "https://localhost:8080/",
          "height": 573
        },
        "outputId": "d03272e4-7f7d-47e8-8ba3-c2158bf9ccbb"
      },
      "source": [
        "#Train set results\n",
        "plt.subplot(1,2,1)\n",
        "Y_train_pred=regressor.predict(X_train)\n",
        "plt.scatter(X_train,Y_train,marker='s',color='blue')\n",
        "plt.plot(X_train,Y_train_pred,color='red')\n",
        "plt.title('Hours vs percentage (for training set)')\n",
        "plt.ylabel('Percentage score')\n",
        "plt.xlabel('Hours studied')\n",
        "plt.show()\n",
        "#Test set results\n",
        "plt.subplot(1,2,2)\n",
        "Y_test_pred=regressor.predict(X_test)\n",
        "plt.scatter(X_test,Y_test,marker='s',color='blue')\n",
        "plt.plot(X_test,Y_test_pred,color='red')\n",
        "plt.title('Hours vs percentage (for test set)')\n",
        "plt.ylabel('Percentage score')\n",
        "plt.xlabel('Hours studied')\n",
        "plt.show()"
      ],
      "execution_count": 10,
      "outputs": [
        {
          "output_type": "display_data",
          "data": {
            "image/png": "[encoded data removed]",
            "text/plain": [
              "<Figure size 432x288 with 1 Axes>"
            ]
          },
          "metadata": {
            "tags": [],
            "needs_background": "light"
          }
        },
        {
          "output_type": "display_data",
          "data": {
            "image/png": "[encoded data removed]",
            "text/plain": [
              "<Figure size 432x288 with 1 Axes>"
            ]
          },
          "metadata": {
            "tags": [],
            "needs_background": "light"
          }
        }
      ]
    },
    {
      "cell_type": "markdown",
      "metadata": {
        "id": "yiF1p9KnuhHc",
        "colab_type": "text"
      },
      "source": [
        "**Model evaluation**\n",
        "\n",
        "Now, we need to evaluate how well the algorithm performed on the dataset.Here I will be finding the mean absolute error and root mean square error for test set.And will be also evaluating the model's accuracy."
      ]
    },
    {
      "cell_type": "code",
      "metadata": {
        "id": "FsWVY9hytX-q",
        "colab_type": "code",
        "colab": {
          "base_uri": "https://localhost:8080/",
          "height": 67
        },
        "outputId": "661c3609-d1af-484a-b039-8f00ed1aa5fb"
      },
      "source": [
        "#MAE\n",
        "from sklearn import metrics  \n",
        "from sklearn.metrics import r2_score\n",
        "print('Mean Absolute Error:', metrics.mean_absolute_error(Y_test, Y_pred)) \n",
        "#RMSE\n",
        "print('Root mean square  Error:', np.sqrt(metrics.mean_squared_error(Y_test, Y_pred))) \n",
        "print('Accuracy:', r2_score(Y_test, Y_pred)) "
      ],
      "execution_count": 18,
      "outputs": [
        {
          "output_type": "stream",
          "text": [
            "Mean Absolute Error: 4.183859899002982\n",
            "Root mean square  Error: 4.647447612100373\n",
            "Accuracy: 0.9454906892105354\n"
          ],
          "name": "stdout"
        }
      ]
    },
    {
      "cell_type": "markdown",
      "metadata": {
        "id": "6lP_50YSw34c",
        "colab_type": "text"
      },
      "source": [
        "**CONCLUSION :** In this task,I have fitted a simple linear regressor to the training set of the dataset ,predicted and visualised the  test set results. And I have found out that if a student study for 9.25 hrs a day,the score will be 93.69173249.And on model evaluation ,I got mean absolute error:4.183859899002982 and root mean square error of 4.647447612100373.Further , I got an accuracy of 0.94 which indicates that the it is a good model."
      ]
    }
  ]
}